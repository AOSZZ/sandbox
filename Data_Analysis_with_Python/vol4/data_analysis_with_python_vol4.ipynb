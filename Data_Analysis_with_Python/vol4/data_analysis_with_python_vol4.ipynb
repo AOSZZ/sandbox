{
 "cells": [
  {
   "cell_type": "markdown",
   "metadata": {},
   "source": [
    "### 宿題、\"car_crashes.csv\"のデータ分析"
   ]
  },
  {
   "cell_type": "code",
   "execution_count": 1,
   "metadata": {},
   "outputs": [
    {
     "name": "stderr",
     "output_type": "stream",
     "text": [
      "/Users/Toki/tmp/Twitter_API/venv/lib/python3.6/site-packages/pandas/compat/__init__.py:85: UserWarning: Could not import the lzma module. Your installed Python is incomplete. Attempting to use lzma compression will result in a RuntimeError.\n",
      "  warnings.warn(msg)\n"
     ]
    }
   ],
   "source": [
    "import seaborn as sns\n",
    "import pandas as pd\n",
    "import numpy as np"
   ]
  },
  {
   "cell_type": "code",
   "execution_count": 2,
   "metadata": {},
   "outputs": [],
   "source": [
    "import matplotlib.pyplot as plt"
   ]
  },
  {
   "cell_type": "code",
   "execution_count": 4,
   "metadata": {},
   "outputs": [],
   "source": [
    "### \"car_crashes\"のデータセット\n",
    "car_crashes = sns.load_dataset('car_crashes')"
   ]
  },
  {
   "cell_type": "code",
   "execution_count": 5,
   "metadata": {},
   "outputs": [
    {
     "data": {
      "text/plain": [
       "(pandas.core.frame.DataFrame, 51)"
      ]
     },
     "execution_count": 5,
     "metadata": {},
     "output_type": "execute_result"
    }
   ],
   "source": [
    "type(car_crashes), len(car_crashes)"
   ]
  },
  {
   "cell_type": "code",
   "execution_count": 6,
   "metadata": {
    "scrolled": true
   },
   "outputs": [
    {
     "data": {
      "text/html": [
       "<div>\n",
       "<style scoped>\n",
       "    .dataframe tbody tr th:only-of-type {\n",
       "        vertical-align: middle;\n",
       "    }\n",
       "\n",
       "    .dataframe tbody tr th {\n",
       "        vertical-align: top;\n",
       "    }\n",
       "\n",
       "    .dataframe thead th {\n",
       "        text-align: right;\n",
       "    }\n",
       "</style>\n",
       "<table border=\"1\" class=\"dataframe\">\n",
       "  <thead>\n",
       "    <tr style=\"text-align: right;\">\n",
       "      <th></th>\n",
       "      <th>total</th>\n",
       "      <th>speeding</th>\n",
       "      <th>alcohol</th>\n",
       "      <th>not_distracted</th>\n",
       "      <th>no_previous</th>\n",
       "      <th>ins_premium</th>\n",
       "      <th>ins_losses</th>\n",
       "      <th>abbrev</th>\n",
       "    </tr>\n",
       "  </thead>\n",
       "  <tbody>\n",
       "    <tr>\n",
       "      <th>0</th>\n",
       "      <td>18.8</td>\n",
       "      <td>7.332</td>\n",
       "      <td>5.640</td>\n",
       "      <td>18.048</td>\n",
       "      <td>15.040</td>\n",
       "      <td>784.55</td>\n",
       "      <td>145.08</td>\n",
       "      <td>AL</td>\n",
       "    </tr>\n",
       "    <tr>\n",
       "      <th>1</th>\n",
       "      <td>18.1</td>\n",
       "      <td>7.421</td>\n",
       "      <td>4.525</td>\n",
       "      <td>16.290</td>\n",
       "      <td>17.014</td>\n",
       "      <td>1053.48</td>\n",
       "      <td>133.93</td>\n",
       "      <td>AK</td>\n",
       "    </tr>\n",
       "    <tr>\n",
       "      <th>2</th>\n",
       "      <td>18.6</td>\n",
       "      <td>6.510</td>\n",
       "      <td>5.208</td>\n",
       "      <td>15.624</td>\n",
       "      <td>17.856</td>\n",
       "      <td>899.47</td>\n",
       "      <td>110.35</td>\n",
       "      <td>AZ</td>\n",
       "    </tr>\n",
       "    <tr>\n",
       "      <th>3</th>\n",
       "      <td>22.4</td>\n",
       "      <td>4.032</td>\n",
       "      <td>5.824</td>\n",
       "      <td>21.056</td>\n",
       "      <td>21.280</td>\n",
       "      <td>827.34</td>\n",
       "      <td>142.39</td>\n",
       "      <td>AR</td>\n",
       "    </tr>\n",
       "    <tr>\n",
       "      <th>4</th>\n",
       "      <td>12.0</td>\n",
       "      <td>4.200</td>\n",
       "      <td>3.360</td>\n",
       "      <td>10.920</td>\n",
       "      <td>10.680</td>\n",
       "      <td>878.41</td>\n",
       "      <td>165.63</td>\n",
       "      <td>CA</td>\n",
       "    </tr>\n",
       "    <tr>\n",
       "      <th>5</th>\n",
       "      <td>13.6</td>\n",
       "      <td>5.032</td>\n",
       "      <td>3.808</td>\n",
       "      <td>10.744</td>\n",
       "      <td>12.920</td>\n",
       "      <td>835.50</td>\n",
       "      <td>139.91</td>\n",
       "      <td>CO</td>\n",
       "    </tr>\n",
       "    <tr>\n",
       "      <th>6</th>\n",
       "      <td>10.8</td>\n",
       "      <td>4.968</td>\n",
       "      <td>3.888</td>\n",
       "      <td>9.396</td>\n",
       "      <td>8.856</td>\n",
       "      <td>1068.73</td>\n",
       "      <td>167.02</td>\n",
       "      <td>CT</td>\n",
       "    </tr>\n",
       "    <tr>\n",
       "      <th>7</th>\n",
       "      <td>16.2</td>\n",
       "      <td>6.156</td>\n",
       "      <td>4.860</td>\n",
       "      <td>14.094</td>\n",
       "      <td>16.038</td>\n",
       "      <td>1137.87</td>\n",
       "      <td>151.48</td>\n",
       "      <td>DE</td>\n",
       "    </tr>\n",
       "    <tr>\n",
       "      <th>8</th>\n",
       "      <td>5.9</td>\n",
       "      <td>2.006</td>\n",
       "      <td>1.593</td>\n",
       "      <td>5.900</td>\n",
       "      <td>5.900</td>\n",
       "      <td>1273.89</td>\n",
       "      <td>136.05</td>\n",
       "      <td>DC</td>\n",
       "    </tr>\n",
       "    <tr>\n",
       "      <th>9</th>\n",
       "      <td>17.9</td>\n",
       "      <td>3.759</td>\n",
       "      <td>5.191</td>\n",
       "      <td>16.468</td>\n",
       "      <td>16.826</td>\n",
       "      <td>1160.13</td>\n",
       "      <td>144.18</td>\n",
       "      <td>FL</td>\n",
       "    </tr>\n",
       "    <tr>\n",
       "      <th>10</th>\n",
       "      <td>15.6</td>\n",
       "      <td>2.964</td>\n",
       "      <td>3.900</td>\n",
       "      <td>14.820</td>\n",
       "      <td>14.508</td>\n",
       "      <td>913.15</td>\n",
       "      <td>142.80</td>\n",
       "      <td>GA</td>\n",
       "    </tr>\n",
       "    <tr>\n",
       "      <th>11</th>\n",
       "      <td>17.5</td>\n",
       "      <td>9.450</td>\n",
       "      <td>7.175</td>\n",
       "      <td>14.350</td>\n",
       "      <td>15.225</td>\n",
       "      <td>861.18</td>\n",
       "      <td>120.92</td>\n",
       "      <td>HI</td>\n",
       "    </tr>\n",
       "    <tr>\n",
       "      <th>12</th>\n",
       "      <td>15.3</td>\n",
       "      <td>5.508</td>\n",
       "      <td>4.437</td>\n",
       "      <td>13.005</td>\n",
       "      <td>14.994</td>\n",
       "      <td>641.96</td>\n",
       "      <td>82.75</td>\n",
       "      <td>ID</td>\n",
       "    </tr>\n",
       "    <tr>\n",
       "      <th>13</th>\n",
       "      <td>12.8</td>\n",
       "      <td>4.608</td>\n",
       "      <td>4.352</td>\n",
       "      <td>12.032</td>\n",
       "      <td>12.288</td>\n",
       "      <td>803.11</td>\n",
       "      <td>139.15</td>\n",
       "      <td>IL</td>\n",
       "    </tr>\n",
       "    <tr>\n",
       "      <th>14</th>\n",
       "      <td>14.5</td>\n",
       "      <td>3.625</td>\n",
       "      <td>4.205</td>\n",
       "      <td>13.775</td>\n",
       "      <td>13.775</td>\n",
       "      <td>710.46</td>\n",
       "      <td>108.92</td>\n",
       "      <td>IN</td>\n",
       "    </tr>\n",
       "    <tr>\n",
       "      <th>15</th>\n",
       "      <td>15.7</td>\n",
       "      <td>2.669</td>\n",
       "      <td>3.925</td>\n",
       "      <td>15.229</td>\n",
       "      <td>13.659</td>\n",
       "      <td>649.06</td>\n",
       "      <td>114.47</td>\n",
       "      <td>IA</td>\n",
       "    </tr>\n",
       "    <tr>\n",
       "      <th>16</th>\n",
       "      <td>17.8</td>\n",
       "      <td>4.806</td>\n",
       "      <td>4.272</td>\n",
       "      <td>13.706</td>\n",
       "      <td>15.130</td>\n",
       "      <td>780.45</td>\n",
       "      <td>133.80</td>\n",
       "      <td>KS</td>\n",
       "    </tr>\n",
       "    <tr>\n",
       "      <th>17</th>\n",
       "      <td>21.4</td>\n",
       "      <td>4.066</td>\n",
       "      <td>4.922</td>\n",
       "      <td>16.692</td>\n",
       "      <td>16.264</td>\n",
       "      <td>872.51</td>\n",
       "      <td>137.13</td>\n",
       "      <td>KY</td>\n",
       "    </tr>\n",
       "    <tr>\n",
       "      <th>18</th>\n",
       "      <td>20.5</td>\n",
       "      <td>7.175</td>\n",
       "      <td>6.765</td>\n",
       "      <td>14.965</td>\n",
       "      <td>20.090</td>\n",
       "      <td>1281.55</td>\n",
       "      <td>194.78</td>\n",
       "      <td>LA</td>\n",
       "    </tr>\n",
       "    <tr>\n",
       "      <th>19</th>\n",
       "      <td>15.1</td>\n",
       "      <td>5.738</td>\n",
       "      <td>4.530</td>\n",
       "      <td>13.137</td>\n",
       "      <td>12.684</td>\n",
       "      <td>661.88</td>\n",
       "      <td>96.57</td>\n",
       "      <td>ME</td>\n",
       "    </tr>\n",
       "    <tr>\n",
       "      <th>20</th>\n",
       "      <td>12.5</td>\n",
       "      <td>4.250</td>\n",
       "      <td>4.000</td>\n",
       "      <td>8.875</td>\n",
       "      <td>12.375</td>\n",
       "      <td>1048.78</td>\n",
       "      <td>192.70</td>\n",
       "      <td>MD</td>\n",
       "    </tr>\n",
       "    <tr>\n",
       "      <th>21</th>\n",
       "      <td>8.2</td>\n",
       "      <td>1.886</td>\n",
       "      <td>2.870</td>\n",
       "      <td>7.134</td>\n",
       "      <td>6.560</td>\n",
       "      <td>1011.14</td>\n",
       "      <td>135.63</td>\n",
       "      <td>MA</td>\n",
       "    </tr>\n",
       "    <tr>\n",
       "      <th>22</th>\n",
       "      <td>14.1</td>\n",
       "      <td>3.384</td>\n",
       "      <td>3.948</td>\n",
       "      <td>13.395</td>\n",
       "      <td>10.857</td>\n",
       "      <td>1110.61</td>\n",
       "      <td>152.26</td>\n",
       "      <td>MI</td>\n",
       "    </tr>\n",
       "    <tr>\n",
       "      <th>23</th>\n",
       "      <td>9.6</td>\n",
       "      <td>2.208</td>\n",
       "      <td>2.784</td>\n",
       "      <td>8.448</td>\n",
       "      <td>8.448</td>\n",
       "      <td>777.18</td>\n",
       "      <td>133.35</td>\n",
       "      <td>MN</td>\n",
       "    </tr>\n",
       "    <tr>\n",
       "      <th>24</th>\n",
       "      <td>17.6</td>\n",
       "      <td>2.640</td>\n",
       "      <td>5.456</td>\n",
       "      <td>1.760</td>\n",
       "      <td>17.600</td>\n",
       "      <td>896.07</td>\n",
       "      <td>155.77</td>\n",
       "      <td>MS</td>\n",
       "    </tr>\n",
       "    <tr>\n",
       "      <th>25</th>\n",
       "      <td>16.1</td>\n",
       "      <td>6.923</td>\n",
       "      <td>5.474</td>\n",
       "      <td>14.812</td>\n",
       "      <td>13.524</td>\n",
       "      <td>790.32</td>\n",
       "      <td>144.45</td>\n",
       "      <td>MO</td>\n",
       "    </tr>\n",
       "    <tr>\n",
       "      <th>26</th>\n",
       "      <td>21.4</td>\n",
       "      <td>8.346</td>\n",
       "      <td>9.416</td>\n",
       "      <td>17.976</td>\n",
       "      <td>18.190</td>\n",
       "      <td>816.21</td>\n",
       "      <td>85.15</td>\n",
       "      <td>MT</td>\n",
       "    </tr>\n",
       "    <tr>\n",
       "      <th>27</th>\n",
       "      <td>14.9</td>\n",
       "      <td>1.937</td>\n",
       "      <td>5.215</td>\n",
       "      <td>13.857</td>\n",
       "      <td>13.410</td>\n",
       "      <td>732.28</td>\n",
       "      <td>114.82</td>\n",
       "      <td>NE</td>\n",
       "    </tr>\n",
       "    <tr>\n",
       "      <th>28</th>\n",
       "      <td>14.7</td>\n",
       "      <td>5.439</td>\n",
       "      <td>4.704</td>\n",
       "      <td>13.965</td>\n",
       "      <td>14.553</td>\n",
       "      <td>1029.87</td>\n",
       "      <td>138.71</td>\n",
       "      <td>NV</td>\n",
       "    </tr>\n",
       "    <tr>\n",
       "      <th>29</th>\n",
       "      <td>11.6</td>\n",
       "      <td>4.060</td>\n",
       "      <td>3.480</td>\n",
       "      <td>10.092</td>\n",
       "      <td>9.628</td>\n",
       "      <td>746.54</td>\n",
       "      <td>120.21</td>\n",
       "      <td>NH</td>\n",
       "    </tr>\n",
       "    <tr>\n",
       "      <th>30</th>\n",
       "      <td>11.2</td>\n",
       "      <td>1.792</td>\n",
       "      <td>3.136</td>\n",
       "      <td>9.632</td>\n",
       "      <td>8.736</td>\n",
       "      <td>1301.52</td>\n",
       "      <td>159.85</td>\n",
       "      <td>NJ</td>\n",
       "    </tr>\n",
       "    <tr>\n",
       "      <th>31</th>\n",
       "      <td>18.4</td>\n",
       "      <td>3.496</td>\n",
       "      <td>4.968</td>\n",
       "      <td>12.328</td>\n",
       "      <td>18.032</td>\n",
       "      <td>869.85</td>\n",
       "      <td>120.75</td>\n",
       "      <td>NM</td>\n",
       "    </tr>\n",
       "    <tr>\n",
       "      <th>32</th>\n",
       "      <td>12.3</td>\n",
       "      <td>3.936</td>\n",
       "      <td>3.567</td>\n",
       "      <td>10.824</td>\n",
       "      <td>9.840</td>\n",
       "      <td>1234.31</td>\n",
       "      <td>150.01</td>\n",
       "      <td>NY</td>\n",
       "    </tr>\n",
       "    <tr>\n",
       "      <th>33</th>\n",
       "      <td>16.8</td>\n",
       "      <td>6.552</td>\n",
       "      <td>5.208</td>\n",
       "      <td>15.792</td>\n",
       "      <td>13.608</td>\n",
       "      <td>708.24</td>\n",
       "      <td>127.82</td>\n",
       "      <td>NC</td>\n",
       "    </tr>\n",
       "    <tr>\n",
       "      <th>34</th>\n",
       "      <td>23.9</td>\n",
       "      <td>5.497</td>\n",
       "      <td>10.038</td>\n",
       "      <td>23.661</td>\n",
       "      <td>20.554</td>\n",
       "      <td>688.75</td>\n",
       "      <td>109.72</td>\n",
       "      <td>ND</td>\n",
       "    </tr>\n",
       "    <tr>\n",
       "      <th>35</th>\n",
       "      <td>14.1</td>\n",
       "      <td>3.948</td>\n",
       "      <td>4.794</td>\n",
       "      <td>13.959</td>\n",
       "      <td>11.562</td>\n",
       "      <td>697.73</td>\n",
       "      <td>133.52</td>\n",
       "      <td>OH</td>\n",
       "    </tr>\n",
       "    <tr>\n",
       "      <th>36</th>\n",
       "      <td>19.9</td>\n",
       "      <td>6.368</td>\n",
       "      <td>5.771</td>\n",
       "      <td>18.308</td>\n",
       "      <td>18.706</td>\n",
       "      <td>881.51</td>\n",
       "      <td>178.86</td>\n",
       "      <td>OK</td>\n",
       "    </tr>\n",
       "    <tr>\n",
       "      <th>37</th>\n",
       "      <td>12.8</td>\n",
       "      <td>4.224</td>\n",
       "      <td>3.328</td>\n",
       "      <td>8.576</td>\n",
       "      <td>11.520</td>\n",
       "      <td>804.71</td>\n",
       "      <td>104.61</td>\n",
       "      <td>OR</td>\n",
       "    </tr>\n",
       "    <tr>\n",
       "      <th>38</th>\n",
       "      <td>18.2</td>\n",
       "      <td>9.100</td>\n",
       "      <td>5.642</td>\n",
       "      <td>17.472</td>\n",
       "      <td>16.016</td>\n",
       "      <td>905.99</td>\n",
       "      <td>153.86</td>\n",
       "      <td>PA</td>\n",
       "    </tr>\n",
       "    <tr>\n",
       "      <th>39</th>\n",
       "      <td>11.1</td>\n",
       "      <td>3.774</td>\n",
       "      <td>4.218</td>\n",
       "      <td>10.212</td>\n",
       "      <td>8.769</td>\n",
       "      <td>1148.99</td>\n",
       "      <td>148.58</td>\n",
       "      <td>RI</td>\n",
       "    </tr>\n",
       "    <tr>\n",
       "      <th>40</th>\n",
       "      <td>23.9</td>\n",
       "      <td>9.082</td>\n",
       "      <td>9.799</td>\n",
       "      <td>22.944</td>\n",
       "      <td>19.359</td>\n",
       "      <td>858.97</td>\n",
       "      <td>116.29</td>\n",
       "      <td>SC</td>\n",
       "    </tr>\n",
       "    <tr>\n",
       "      <th>41</th>\n",
       "      <td>19.4</td>\n",
       "      <td>6.014</td>\n",
       "      <td>6.402</td>\n",
       "      <td>19.012</td>\n",
       "      <td>16.684</td>\n",
       "      <td>669.31</td>\n",
       "      <td>96.87</td>\n",
       "      <td>SD</td>\n",
       "    </tr>\n",
       "    <tr>\n",
       "      <th>42</th>\n",
       "      <td>19.5</td>\n",
       "      <td>4.095</td>\n",
       "      <td>5.655</td>\n",
       "      <td>15.990</td>\n",
       "      <td>15.795</td>\n",
       "      <td>767.91</td>\n",
       "      <td>155.57</td>\n",
       "      <td>TN</td>\n",
       "    </tr>\n",
       "    <tr>\n",
       "      <th>43</th>\n",
       "      <td>19.4</td>\n",
       "      <td>7.760</td>\n",
       "      <td>7.372</td>\n",
       "      <td>17.654</td>\n",
       "      <td>16.878</td>\n",
       "      <td>1004.75</td>\n",
       "      <td>156.83</td>\n",
       "      <td>TX</td>\n",
       "    </tr>\n",
       "    <tr>\n",
       "      <th>44</th>\n",
       "      <td>11.3</td>\n",
       "      <td>4.859</td>\n",
       "      <td>1.808</td>\n",
       "      <td>9.944</td>\n",
       "      <td>10.848</td>\n",
       "      <td>809.38</td>\n",
       "      <td>109.48</td>\n",
       "      <td>UT</td>\n",
       "    </tr>\n",
       "    <tr>\n",
       "      <th>45</th>\n",
       "      <td>13.6</td>\n",
       "      <td>4.080</td>\n",
       "      <td>4.080</td>\n",
       "      <td>13.056</td>\n",
       "      <td>12.920</td>\n",
       "      <td>716.20</td>\n",
       "      <td>109.61</td>\n",
       "      <td>VT</td>\n",
       "    </tr>\n",
       "    <tr>\n",
       "      <th>46</th>\n",
       "      <td>12.7</td>\n",
       "      <td>2.413</td>\n",
       "      <td>3.429</td>\n",
       "      <td>11.049</td>\n",
       "      <td>11.176</td>\n",
       "      <td>768.95</td>\n",
       "      <td>153.72</td>\n",
       "      <td>VA</td>\n",
       "    </tr>\n",
       "    <tr>\n",
       "      <th>47</th>\n",
       "      <td>10.6</td>\n",
       "      <td>4.452</td>\n",
       "      <td>3.498</td>\n",
       "      <td>8.692</td>\n",
       "      <td>9.116</td>\n",
       "      <td>890.03</td>\n",
       "      <td>111.62</td>\n",
       "      <td>WA</td>\n",
       "    </tr>\n",
       "    <tr>\n",
       "      <th>48</th>\n",
       "      <td>23.8</td>\n",
       "      <td>8.092</td>\n",
       "      <td>6.664</td>\n",
       "      <td>23.086</td>\n",
       "      <td>20.706</td>\n",
       "      <td>992.61</td>\n",
       "      <td>152.56</td>\n",
       "      <td>WV</td>\n",
       "    </tr>\n",
       "    <tr>\n",
       "      <th>49</th>\n",
       "      <td>13.8</td>\n",
       "      <td>4.968</td>\n",
       "      <td>4.554</td>\n",
       "      <td>5.382</td>\n",
       "      <td>11.592</td>\n",
       "      <td>670.31</td>\n",
       "      <td>106.62</td>\n",
       "      <td>WI</td>\n",
       "    </tr>\n",
       "    <tr>\n",
       "      <th>50</th>\n",
       "      <td>17.4</td>\n",
       "      <td>7.308</td>\n",
       "      <td>5.568</td>\n",
       "      <td>14.094</td>\n",
       "      <td>15.660</td>\n",
       "      <td>791.14</td>\n",
       "      <td>122.04</td>\n",
       "      <td>WY</td>\n",
       "    </tr>\n",
       "  </tbody>\n",
       "</table>\n",
       "</div>"
      ],
      "text/plain": [
       "    total  speeding  alcohol  not_distracted  no_previous  ins_premium  \\\n",
       "0    18.8     7.332    5.640          18.048       15.040       784.55   \n",
       "1    18.1     7.421    4.525          16.290       17.014      1053.48   \n",
       "2    18.6     6.510    5.208          15.624       17.856       899.47   \n",
       "3    22.4     4.032    5.824          21.056       21.280       827.34   \n",
       "4    12.0     4.200    3.360          10.920       10.680       878.41   \n",
       "5    13.6     5.032    3.808          10.744       12.920       835.50   \n",
       "6    10.8     4.968    3.888           9.396        8.856      1068.73   \n",
       "7    16.2     6.156    4.860          14.094       16.038      1137.87   \n",
       "8     5.9     2.006    1.593           5.900        5.900      1273.89   \n",
       "9    17.9     3.759    5.191          16.468       16.826      1160.13   \n",
       "10   15.6     2.964    3.900          14.820       14.508       913.15   \n",
       "11   17.5     9.450    7.175          14.350       15.225       861.18   \n",
       "12   15.3     5.508    4.437          13.005       14.994       641.96   \n",
       "13   12.8     4.608    4.352          12.032       12.288       803.11   \n",
       "14   14.5     3.625    4.205          13.775       13.775       710.46   \n",
       "15   15.7     2.669    3.925          15.229       13.659       649.06   \n",
       "16   17.8     4.806    4.272          13.706       15.130       780.45   \n",
       "17   21.4     4.066    4.922          16.692       16.264       872.51   \n",
       "18   20.5     7.175    6.765          14.965       20.090      1281.55   \n",
       "19   15.1     5.738    4.530          13.137       12.684       661.88   \n",
       "20   12.5     4.250    4.000           8.875       12.375      1048.78   \n",
       "21    8.2     1.886    2.870           7.134        6.560      1011.14   \n",
       "22   14.1     3.384    3.948          13.395       10.857      1110.61   \n",
       "23    9.6     2.208    2.784           8.448        8.448       777.18   \n",
       "24   17.6     2.640    5.456           1.760       17.600       896.07   \n",
       "25   16.1     6.923    5.474          14.812       13.524       790.32   \n",
       "26   21.4     8.346    9.416          17.976       18.190       816.21   \n",
       "27   14.9     1.937    5.215          13.857       13.410       732.28   \n",
       "28   14.7     5.439    4.704          13.965       14.553      1029.87   \n",
       "29   11.6     4.060    3.480          10.092        9.628       746.54   \n",
       "30   11.2     1.792    3.136           9.632        8.736      1301.52   \n",
       "31   18.4     3.496    4.968          12.328       18.032       869.85   \n",
       "32   12.3     3.936    3.567          10.824        9.840      1234.31   \n",
       "33   16.8     6.552    5.208          15.792       13.608       708.24   \n",
       "34   23.9     5.497   10.038          23.661       20.554       688.75   \n",
       "35   14.1     3.948    4.794          13.959       11.562       697.73   \n",
       "36   19.9     6.368    5.771          18.308       18.706       881.51   \n",
       "37   12.8     4.224    3.328           8.576       11.520       804.71   \n",
       "38   18.2     9.100    5.642          17.472       16.016       905.99   \n",
       "39   11.1     3.774    4.218          10.212        8.769      1148.99   \n",
       "40   23.9     9.082    9.799          22.944       19.359       858.97   \n",
       "41   19.4     6.014    6.402          19.012       16.684       669.31   \n",
       "42   19.5     4.095    5.655          15.990       15.795       767.91   \n",
       "43   19.4     7.760    7.372          17.654       16.878      1004.75   \n",
       "44   11.3     4.859    1.808           9.944       10.848       809.38   \n",
       "45   13.6     4.080    4.080          13.056       12.920       716.20   \n",
       "46   12.7     2.413    3.429          11.049       11.176       768.95   \n",
       "47   10.6     4.452    3.498           8.692        9.116       890.03   \n",
       "48   23.8     8.092    6.664          23.086       20.706       992.61   \n",
       "49   13.8     4.968    4.554           5.382       11.592       670.31   \n",
       "50   17.4     7.308    5.568          14.094       15.660       791.14   \n",
       "\n",
       "    ins_losses abbrev  \n",
       "0       145.08     AL  \n",
       "1       133.93     AK  \n",
       "2       110.35     AZ  \n",
       "3       142.39     AR  \n",
       "4       165.63     CA  \n",
       "5       139.91     CO  \n",
       "6       167.02     CT  \n",
       "7       151.48     DE  \n",
       "8       136.05     DC  \n",
       "9       144.18     FL  \n",
       "10      142.80     GA  \n",
       "11      120.92     HI  \n",
       "12       82.75     ID  \n",
       "13      139.15     IL  \n",
       "14      108.92     IN  \n",
       "15      114.47     IA  \n",
       "16      133.80     KS  \n",
       "17      137.13     KY  \n",
       "18      194.78     LA  \n",
       "19       96.57     ME  \n",
       "20      192.70     MD  \n",
       "21      135.63     MA  \n",
       "22      152.26     MI  \n",
       "23      133.35     MN  \n",
       "24      155.77     MS  \n",
       "25      144.45     MO  \n",
       "26       85.15     MT  \n",
       "27      114.82     NE  \n",
       "28      138.71     NV  \n",
       "29      120.21     NH  \n",
       "30      159.85     NJ  \n",
       "31      120.75     NM  \n",
       "32      150.01     NY  \n",
       "33      127.82     NC  \n",
       "34      109.72     ND  \n",
       "35      133.52     OH  \n",
       "36      178.86     OK  \n",
       "37      104.61     OR  \n",
       "38      153.86     PA  \n",
       "39      148.58     RI  \n",
       "40      116.29     SC  \n",
       "41       96.87     SD  \n",
       "42      155.57     TN  \n",
       "43      156.83     TX  \n",
       "44      109.48     UT  \n",
       "45      109.61     VT  \n",
       "46      153.72     VA  \n",
       "47      111.62     WA  \n",
       "48      152.56     WV  \n",
       "49      106.62     WI  \n",
       "50      122.04     WY  "
      ]
     },
     "execution_count": 6,
     "metadata": {},
     "output_type": "execute_result"
    }
   ],
   "source": [
    "car_crashes"
   ]
  },
  {
   "cell_type": "code",
   "execution_count": 8,
   "metadata": {},
   "outputs": [
    {
     "data": {
      "text/html": [
       "<div>\n",
       "<style scoped>\n",
       "    .dataframe tbody tr th:only-of-type {\n",
       "        vertical-align: middle;\n",
       "    }\n",
       "\n",
       "    .dataframe tbody tr th {\n",
       "        vertical-align: top;\n",
       "    }\n",
       "\n",
       "    .dataframe thead th {\n",
       "        text-align: right;\n",
       "    }\n",
       "</style>\n",
       "<table border=\"1\" class=\"dataframe\">\n",
       "  <thead>\n",
       "    <tr style=\"text-align: right;\">\n",
       "      <th></th>\n",
       "      <th>total</th>\n",
       "      <th>speeding</th>\n",
       "      <th>alcohol</th>\n",
       "      <th>not_distracted</th>\n",
       "      <th>no_previous</th>\n",
       "      <th>ins_premium</th>\n",
       "      <th>ins_losses</th>\n",
       "    </tr>\n",
       "  </thead>\n",
       "  <tbody>\n",
       "    <tr>\n",
       "      <th>count</th>\n",
       "      <td>51.000000</td>\n",
       "      <td>51.000000</td>\n",
       "      <td>51.000000</td>\n",
       "      <td>51.000000</td>\n",
       "      <td>51.000000</td>\n",
       "      <td>51.000000</td>\n",
       "      <td>51.000000</td>\n",
       "    </tr>\n",
       "    <tr>\n",
       "      <th>mean</th>\n",
       "      <td>15.790196</td>\n",
       "      <td>4.998196</td>\n",
       "      <td>4.886784</td>\n",
       "      <td>13.573176</td>\n",
       "      <td>14.004882</td>\n",
       "      <td>886.957647</td>\n",
       "      <td>134.493137</td>\n",
       "    </tr>\n",
       "    <tr>\n",
       "      <th>std</th>\n",
       "      <td>4.122002</td>\n",
       "      <td>2.017747</td>\n",
       "      <td>1.729133</td>\n",
       "      <td>4.508977</td>\n",
       "      <td>3.764672</td>\n",
       "      <td>178.296285</td>\n",
       "      <td>24.835922</td>\n",
       "    </tr>\n",
       "    <tr>\n",
       "      <th>min</th>\n",
       "      <td>5.900000</td>\n",
       "      <td>1.792000</td>\n",
       "      <td>1.593000</td>\n",
       "      <td>1.760000</td>\n",
       "      <td>5.900000</td>\n",
       "      <td>641.960000</td>\n",
       "      <td>82.750000</td>\n",
       "    </tr>\n",
       "    <tr>\n",
       "      <th>25%</th>\n",
       "      <td>12.750000</td>\n",
       "      <td>3.766500</td>\n",
       "      <td>3.894000</td>\n",
       "      <td>10.478000</td>\n",
       "      <td>11.348000</td>\n",
       "      <td>768.430000</td>\n",
       "      <td>114.645000</td>\n",
       "    </tr>\n",
       "    <tr>\n",
       "      <th>50%</th>\n",
       "      <td>15.600000</td>\n",
       "      <td>4.608000</td>\n",
       "      <td>4.554000</td>\n",
       "      <td>13.857000</td>\n",
       "      <td>13.775000</td>\n",
       "      <td>858.970000</td>\n",
       "      <td>136.050000</td>\n",
       "    </tr>\n",
       "    <tr>\n",
       "      <th>75%</th>\n",
       "      <td>18.500000</td>\n",
       "      <td>6.439000</td>\n",
       "      <td>5.604000</td>\n",
       "      <td>16.140000</td>\n",
       "      <td>16.755000</td>\n",
       "      <td>1007.945000</td>\n",
       "      <td>151.870000</td>\n",
       "    </tr>\n",
       "    <tr>\n",
       "      <th>max</th>\n",
       "      <td>23.900000</td>\n",
       "      <td>9.450000</td>\n",
       "      <td>10.038000</td>\n",
       "      <td>23.661000</td>\n",
       "      <td>21.280000</td>\n",
       "      <td>1301.520000</td>\n",
       "      <td>194.780000</td>\n",
       "    </tr>\n",
       "  </tbody>\n",
       "</table>\n",
       "</div>"
      ],
      "text/plain": [
       "           total   speeding    alcohol  not_distracted  no_previous  \\\n",
       "count  51.000000  51.000000  51.000000       51.000000    51.000000   \n",
       "mean   15.790196   4.998196   4.886784       13.573176    14.004882   \n",
       "std     4.122002   2.017747   1.729133        4.508977     3.764672   \n",
       "min     5.900000   1.792000   1.593000        1.760000     5.900000   \n",
       "25%    12.750000   3.766500   3.894000       10.478000    11.348000   \n",
       "50%    15.600000   4.608000   4.554000       13.857000    13.775000   \n",
       "75%    18.500000   6.439000   5.604000       16.140000    16.755000   \n",
       "max    23.900000   9.450000  10.038000       23.661000    21.280000   \n",
       "\n",
       "       ins_premium  ins_losses  \n",
       "count    51.000000   51.000000  \n",
       "mean    886.957647  134.493137  \n",
       "std     178.296285   24.835922  \n",
       "min     641.960000   82.750000  \n",
       "25%     768.430000  114.645000  \n",
       "50%     858.970000  136.050000  \n",
       "75%    1007.945000  151.870000  \n",
       "max    1301.520000  194.780000  "
      ]
     },
     "execution_count": 8,
     "metadata": {},
     "output_type": "execute_result"
    }
   ],
   "source": [
    "car_crashes.describe()"
   ]
  },
  {
   "cell_type": "code",
   "execution_count": 9,
   "metadata": {},
   "outputs": [
    {
     "name": "stdout",
     "output_type": "stream",
     "text": [
      "False    51\n",
      "Name: abbrev, dtype: int64\n"
     ]
    }
   ],
   "source": [
    "# 重複のカウント\n",
    "print(car_crashes[\"abbrev\"].duplicated().value_counts())"
   ]
  },
  {
   "cell_type": "markdown",
   "metadata": {},
   "source": [
    "**どうやら、アメリカの州ごとの統計情報...らしい？**  \n",
    "ちょっと確認してみる\n",
    "[アメリカの州略号]()"
   ]
  },
  {
   "cell_type": "code",
   "execution_count": 34,
   "metadata": {},
   "outputs": [],
   "source": [
    "state_df = pd.read_csv('state_name.txt', delimiter='\\t', header=None)"
   ]
  },
  {
   "cell_type": "code",
   "execution_count": 35,
   "metadata": {
    "scrolled": true
   },
   "outputs": [
    {
     "data": {
      "text/html": [
       "<div>\n",
       "<style scoped>\n",
       "    .dataframe tbody tr th:only-of-type {\n",
       "        vertical-align: middle;\n",
       "    }\n",
       "\n",
       "    .dataframe tbody tr th {\n",
       "        vertical-align: top;\n",
       "    }\n",
       "\n",
       "    .dataframe thead th {\n",
       "        text-align: right;\n",
       "    }\n",
       "</style>\n",
       "<table border=\"1\" class=\"dataframe\">\n",
       "  <thead>\n",
       "    <tr style=\"text-align: right;\">\n",
       "      <th></th>\n",
       "      <th>0</th>\n",
       "      <th>1</th>\n",
       "      <th>2</th>\n",
       "    </tr>\n",
       "  </thead>\n",
       "  <tbody>\n",
       "    <tr>\n",
       "      <th>0</th>\n",
       "      <td>AK</td>\n",
       "      <td>Alaska</td>\n",
       "      <td>アラスカ</td>\n",
       "    </tr>\n",
       "    <tr>\n",
       "      <th>1</th>\n",
       "      <td>AL</td>\n",
       "      <td>Alabama</td>\n",
       "      <td>アラバマ</td>\n",
       "    </tr>\n",
       "    <tr>\n",
       "      <th>2</th>\n",
       "      <td>AR</td>\n",
       "      <td>Arkansas</td>\n",
       "      <td>アーカンソー</td>\n",
       "    </tr>\n",
       "    <tr>\n",
       "      <th>3</th>\n",
       "      <td>AZ</td>\n",
       "      <td>Arizona</td>\n",
       "      <td>アリゾナ</td>\n",
       "    </tr>\n",
       "    <tr>\n",
       "      <th>4</th>\n",
       "      <td>CA</td>\n",
       "      <td>California</td>\n",
       "      <td>カリフォルニア</td>\n",
       "    </tr>\n",
       "    <tr>\n",
       "      <th>5</th>\n",
       "      <td>CO</td>\n",
       "      <td>Colorado</td>\n",
       "      <td>コロラド</td>\n",
       "    </tr>\n",
       "    <tr>\n",
       "      <th>6</th>\n",
       "      <td>CT</td>\n",
       "      <td>Connecticut</td>\n",
       "      <td>コネチカット</td>\n",
       "    </tr>\n",
       "    <tr>\n",
       "      <th>7</th>\n",
       "      <td>DC</td>\n",
       "      <td>District of Columbia</td>\n",
       "      <td>ワシントン DC</td>\n",
       "    </tr>\n",
       "    <tr>\n",
       "      <th>8</th>\n",
       "      <td>DE</td>\n",
       "      <td>Delaware</td>\n",
       "      <td>デラウェア</td>\n",
       "    </tr>\n",
       "    <tr>\n",
       "      <th>9</th>\n",
       "      <td>FL</td>\n",
       "      <td>Florida</td>\n",
       "      <td>フロリダ</td>\n",
       "    </tr>\n",
       "    <tr>\n",
       "      <th>10</th>\n",
       "      <td>GA</td>\n",
       "      <td>Georgia</td>\n",
       "      <td>ジョージア</td>\n",
       "    </tr>\n",
       "    <tr>\n",
       "      <th>11</th>\n",
       "      <td>HI</td>\n",
       "      <td>Hawaii</td>\n",
       "      <td>ハワイ</td>\n",
       "    </tr>\n",
       "    <tr>\n",
       "      <th>12</th>\n",
       "      <td>IA</td>\n",
       "      <td>Iowa</td>\n",
       "      <td>アイオワ</td>\n",
       "    </tr>\n",
       "    <tr>\n",
       "      <th>13</th>\n",
       "      <td>ID</td>\n",
       "      <td>Idaho</td>\n",
       "      <td>アイダホ</td>\n",
       "    </tr>\n",
       "    <tr>\n",
       "      <th>14</th>\n",
       "      <td>IL</td>\n",
       "      <td>Illinois</td>\n",
       "      <td>イリノイ</td>\n",
       "    </tr>\n",
       "    <tr>\n",
       "      <th>15</th>\n",
       "      <td>IN</td>\n",
       "      <td>Indiana</td>\n",
       "      <td>インディアナ</td>\n",
       "    </tr>\n",
       "    <tr>\n",
       "      <th>16</th>\n",
       "      <td>KS</td>\n",
       "      <td>Kansas</td>\n",
       "      <td>カンザス</td>\n",
       "    </tr>\n",
       "    <tr>\n",
       "      <th>17</th>\n",
       "      <td>KY</td>\n",
       "      <td>Kentucky</td>\n",
       "      <td>ケンタッキー</td>\n",
       "    </tr>\n",
       "    <tr>\n",
       "      <th>18</th>\n",
       "      <td>LA</td>\n",
       "      <td>Louisiana</td>\n",
       "      <td>ルイジアナ</td>\n",
       "    </tr>\n",
       "    <tr>\n",
       "      <th>19</th>\n",
       "      <td>MA</td>\n",
       "      <td>Massachusetts</td>\n",
       "      <td>マサチューセッツ</td>\n",
       "    </tr>\n",
       "    <tr>\n",
       "      <th>20</th>\n",
       "      <td>MD</td>\n",
       "      <td>Maryland</td>\n",
       "      <td>メリーランド</td>\n",
       "    </tr>\n",
       "    <tr>\n",
       "      <th>21</th>\n",
       "      <td>ME</td>\n",
       "      <td>Maine</td>\n",
       "      <td>メイン</td>\n",
       "    </tr>\n",
       "    <tr>\n",
       "      <th>22</th>\n",
       "      <td>MI</td>\n",
       "      <td>Michigan</td>\n",
       "      <td>ミシガン</td>\n",
       "    </tr>\n",
       "    <tr>\n",
       "      <th>23</th>\n",
       "      <td>MN</td>\n",
       "      <td>Minnesota</td>\n",
       "      <td>ミネソタ</td>\n",
       "    </tr>\n",
       "    <tr>\n",
       "      <th>24</th>\n",
       "      <td>MO</td>\n",
       "      <td>Missouri</td>\n",
       "      <td>ミズーリ</td>\n",
       "    </tr>\n",
       "    <tr>\n",
       "      <th>25</th>\n",
       "      <td>MS</td>\n",
       "      <td>Mississippi</td>\n",
       "      <td>ミシシッピ</td>\n",
       "    </tr>\n",
       "    <tr>\n",
       "      <th>26</th>\n",
       "      <td>MT</td>\n",
       "      <td>Montana</td>\n",
       "      <td>モンタナ</td>\n",
       "    </tr>\n",
       "    <tr>\n",
       "      <th>27</th>\n",
       "      <td>NC</td>\n",
       "      <td>North Carolina</td>\n",
       "      <td>ノースカロライナ</td>\n",
       "    </tr>\n",
       "    <tr>\n",
       "      <th>28</th>\n",
       "      <td>ND</td>\n",
       "      <td>North Dakota</td>\n",
       "      <td>ノースダコタ</td>\n",
       "    </tr>\n",
       "    <tr>\n",
       "      <th>29</th>\n",
       "      <td>NE</td>\n",
       "      <td>Nebraska</td>\n",
       "      <td>ネブラスカ</td>\n",
       "    </tr>\n",
       "    <tr>\n",
       "      <th>30</th>\n",
       "      <td>NH</td>\n",
       "      <td>New Hampshire</td>\n",
       "      <td>ニューハンプシャー</td>\n",
       "    </tr>\n",
       "    <tr>\n",
       "      <th>31</th>\n",
       "      <td>NJ</td>\n",
       "      <td>New Jersey</td>\n",
       "      <td>ニュージャージー</td>\n",
       "    </tr>\n",
       "    <tr>\n",
       "      <th>32</th>\n",
       "      <td>NM</td>\n",
       "      <td>New Mexico</td>\n",
       "      <td>ニューメキシコ</td>\n",
       "    </tr>\n",
       "    <tr>\n",
       "      <th>33</th>\n",
       "      <td>NV</td>\n",
       "      <td>Nevada</td>\n",
       "      <td>ネバダ</td>\n",
       "    </tr>\n",
       "    <tr>\n",
       "      <th>34</th>\n",
       "      <td>NY</td>\n",
       "      <td>New York</td>\n",
       "      <td>ニューヨーク</td>\n",
       "    </tr>\n",
       "    <tr>\n",
       "      <th>35</th>\n",
       "      <td>OH</td>\n",
       "      <td>Ohio</td>\n",
       "      <td>オハイオ</td>\n",
       "    </tr>\n",
       "    <tr>\n",
       "      <th>36</th>\n",
       "      <td>OK</td>\n",
       "      <td>Oklahoma</td>\n",
       "      <td>オクラホマ</td>\n",
       "    </tr>\n",
       "    <tr>\n",
       "      <th>37</th>\n",
       "      <td>OR</td>\n",
       "      <td>Oregon</td>\n",
       "      <td>オレゴン</td>\n",
       "    </tr>\n",
       "    <tr>\n",
       "      <th>38</th>\n",
       "      <td>PA</td>\n",
       "      <td>Pennsylvania</td>\n",
       "      <td>ペンシルベニア</td>\n",
       "    </tr>\n",
       "    <tr>\n",
       "      <th>39</th>\n",
       "      <td>RI</td>\n",
       "      <td>Rhode Island</td>\n",
       "      <td>ロードアイランド</td>\n",
       "    </tr>\n",
       "    <tr>\n",
       "      <th>40</th>\n",
       "      <td>SC</td>\n",
       "      <td>South Carolina</td>\n",
       "      <td>サウスカロライナ</td>\n",
       "    </tr>\n",
       "    <tr>\n",
       "      <th>41</th>\n",
       "      <td>SD</td>\n",
       "      <td>South Dakota</td>\n",
       "      <td>サウスダコタ</td>\n",
       "    </tr>\n",
       "    <tr>\n",
       "      <th>42</th>\n",
       "      <td>TN</td>\n",
       "      <td>Tennessee</td>\n",
       "      <td>テネシー</td>\n",
       "    </tr>\n",
       "    <tr>\n",
       "      <th>43</th>\n",
       "      <td>TX</td>\n",
       "      <td>Texas</td>\n",
       "      <td>テキサス</td>\n",
       "    </tr>\n",
       "    <tr>\n",
       "      <th>44</th>\n",
       "      <td>UT</td>\n",
       "      <td>Utah</td>\n",
       "      <td>ユタ</td>\n",
       "    </tr>\n",
       "    <tr>\n",
       "      <th>45</th>\n",
       "      <td>VA</td>\n",
       "      <td>Virginia</td>\n",
       "      <td>バージニア</td>\n",
       "    </tr>\n",
       "    <tr>\n",
       "      <th>46</th>\n",
       "      <td>VT</td>\n",
       "      <td>Vermont</td>\n",
       "      <td>バーモント</td>\n",
       "    </tr>\n",
       "    <tr>\n",
       "      <th>47</th>\n",
       "      <td>WA</td>\n",
       "      <td>Washington</td>\n",
       "      <td>ワシントン</td>\n",
       "    </tr>\n",
       "    <tr>\n",
       "      <th>48</th>\n",
       "      <td>WI</td>\n",
       "      <td>Wisconsin</td>\n",
       "      <td>ウィスコンシン</td>\n",
       "    </tr>\n",
       "    <tr>\n",
       "      <th>49</th>\n",
       "      <td>WV</td>\n",
       "      <td>West Virginia</td>\n",
       "      <td>ウェストバージニア</td>\n",
       "    </tr>\n",
       "    <tr>\n",
       "      <th>50</th>\n",
       "      <td>WY</td>\n",
       "      <td>Wyoming</td>\n",
       "      <td>ワイオミング</td>\n",
       "    </tr>\n",
       "  </tbody>\n",
       "</table>\n",
       "</div>"
      ],
      "text/plain": [
       "     0                     1          2\n",
       "0   AK                Alaska       アラスカ\n",
       "1   AL               Alabama       アラバマ\n",
       "2   AR              Arkansas     アーカンソー\n",
       "3   AZ               Arizona       アリゾナ\n",
       "4   CA            California    カリフォルニア\n",
       "5   CO              Colorado       コロラド\n",
       "6   CT           Connecticut     コネチカット\n",
       "7   DC  District of Columbia   ワシントン DC\n",
       "8   DE              Delaware      デラウェア\n",
       "9   FL               Florida       フロリダ\n",
       "10  GA               Georgia      ジョージア\n",
       "11  HI                Hawaii        ハワイ\n",
       "12  IA                  Iowa       アイオワ\n",
       "13  ID                 Idaho       アイダホ\n",
       "14  IL              Illinois       イリノイ\n",
       "15  IN               Indiana     インディアナ\n",
       "16  KS                Kansas       カンザス\n",
       "17  KY              Kentucky     ケンタッキー\n",
       "18  LA             Louisiana      ルイジアナ\n",
       "19  MA         Massachusetts   マサチューセッツ\n",
       "20  MD              Maryland     メリーランド\n",
       "21  ME                 Maine        メイン\n",
       "22  MI              Michigan       ミシガン\n",
       "23  MN             Minnesota       ミネソタ\n",
       "24  MO              Missouri       ミズーリ\n",
       "25  MS           Mississippi      ミシシッピ\n",
       "26  MT               Montana       モンタナ\n",
       "27  NC        North Carolina   ノースカロライナ\n",
       "28  ND          North Dakota     ノースダコタ\n",
       "29  NE              Nebraska      ネブラスカ\n",
       "30  NH         New Hampshire  ニューハンプシャー\n",
       "31  NJ            New Jersey   ニュージャージー\n",
       "32  NM            New Mexico    ニューメキシコ\n",
       "33  NV                Nevada        ネバダ\n",
       "34  NY              New York     ニューヨーク\n",
       "35  OH                  Ohio       オハイオ\n",
       "36  OK              Oklahoma      オクラホマ\n",
       "37  OR                Oregon       オレゴン\n",
       "38  PA          Pennsylvania    ペンシルベニア\n",
       "39  RI          Rhode Island   ロードアイランド\n",
       "40  SC        South Carolina   サウスカロライナ\n",
       "41  SD          South Dakota     サウスダコタ\n",
       "42  TN             Tennessee       テネシー\n",
       "43  TX                 Texas       テキサス\n",
       "44  UT                  Utah         ユタ\n",
       "45  VA              Virginia      バージニア\n",
       "46  VT               Vermont      バーモント\n",
       "47  WA            Washington      ワシントン\n",
       "48  WI             Wisconsin    ウィスコンシン\n",
       "49  WV         West Virginia  ウェストバージニア\n",
       "50  WY               Wyoming     ワイオミング"
      ]
     },
     "execution_count": 35,
     "metadata": {},
     "output_type": "execute_result"
    }
   ],
   "source": [
    "state_df"
   ]
  },
  {
   "cell_type": "code",
   "execution_count": 15,
   "metadata": {},
   "outputs": [
    {
     "data": {
      "text/plain": [
       "<seaborn.axisgrid.FacetGrid at 0x11eabc5c0>"
      ]
     },
     "execution_count": 15,
     "metadata": {},
     "output_type": "execute_result"
    },
    {
     "data": {
      "image/png": "[encoded data removed]",
      "text/plain": [
       "<Figure size 360x360 with 1 Axes>"
      ]
     },
     "metadata": {
      "needs_background": "light"
     },
     "output_type": "display_data"
    }
   ],
   "source": [
    "sns.catplot(data=car_crashes)"
   ]
  },
  {
   "cell_type": "code",
   "execution_count": 20,
   "metadata": {},
   "outputs": [
    {
     "data": {
      "text/plain": [
       "<seaborn.axisgrid.FacetGrid at 0x1219a4c88>"
      ]
     },
     "execution_count": 20,
     "metadata": {},
     "output_type": "execute_result"
    },
    {
     "data": {
      "image/png": "[encoded data removed]",
      "text/plain": [
       "<Figure size 360x360 with 1 Axes>"
      ]
     },
     "metadata": {
      "needs_background": "light"
     },
     "output_type": "display_data"
    }
   ],
   "source": [
    "sns.catplot(data=car_crashes[[\"total\"]])"
   ]
  },
  {
   "cell_type": "code",
   "execution_count": 21,
   "metadata": {},
   "outputs": [
    {
     "data": {
      "text/plain": [
       "<seaborn.axisgrid.FacetGrid at 0x121e7e860>"
      ]
     },
     "execution_count": 21,
     "metadata": {},
     "output_type": "execute_result"
    },
    {
     "data": {
      "image/png": "[encoded data removed]",
      "text/plain": [
       "<Figure size 360x360 with 1 Axes>"
      ]
     },
     "metadata": {
      "needs_background": "light"
     },
     "output_type": "display_data"
    }
   ],
   "source": [
    "sns.catplot(data=car_crashes[[\"speeding\"]])"
   ]
  },
  {
   "cell_type": "code",
   "execution_count": 22,
   "metadata": {},
   "outputs": [
    {
     "data": {
      "text/plain": [
       "<seaborn.axisgrid.FacetGrid at 0x11dffb588>"
      ]
     },
     "execution_count": 22,
     "metadata": {},
     "output_type": "execute_result"
    },
    {
     "data": {
      "image/png": "[encoded data removed]",
      "text/plain": [
       "<Figure size 360x360 with 1 Axes>"
      ]
     },
     "metadata": {
      "needs_background": "light"
     },
     "output_type": "display_data"
    }
   ],
   "source": [
    "sns.catplot(data=car_crashes[[\"alcohol\"]])"
   ]
  },
  {
   "cell_type": "code",
   "execution_count": 23,
   "metadata": {},
   "outputs": [
    {
     "data": {
      "text/plain": [
       "<seaborn.axisgrid.FacetGrid at 0x11c4a9a58>"
      ]
     },
     "execution_count": 23,
     "metadata": {},
     "output_type": "execute_result"
    },
    {
     "data": {
      "image/png": "[encoded data removed]",
      "text/plain": [
       "<Figure size 360x360 with 1 Axes>"
      ]
     },
     "metadata": {
      "needs_background": "light"
     },
     "output_type": "display_data"
    }
   ],
   "source": [
    "sns.catplot(data=car_crashes[[\"not_distracted\"]])"
   ]
  },
  {
   "cell_type": "code",
   "execution_count": 24,
   "metadata": {},
   "outputs": [
    {
     "data": {
      "text/plain": [
       "<seaborn.axisgrid.FacetGrid at 0x121a37ac8>"
      ]
     },
     "execution_count": 24,
     "metadata": {},
     "output_type": "execute_result"
    },
    {
     "data": {
      "image/png": "[encoded data removed]",
      "text/plain": [
       "<Figure size 360x360 with 1 Axes>"
      ]
     },
     "metadata": {
      "needs_background": "light"
     },
     "output_type": "display_data"
    }
   ],
   "source": [
    "sns.catplot(data=car_crashes[[\"no_previous\"]])"
   ]
  },
  {
   "cell_type": "code",
   "execution_count": 25,
   "metadata": {},
   "outputs": [
    {
     "data": {
      "text/plain": [
       "<seaborn.axisgrid.FacetGrid at 0x121e89080>"
      ]
     },
     "execution_count": 25,
     "metadata": {},
     "output_type": "execute_result"
    },
    {
     "data": {
      "image/png": "[encoded data removed]",
      "text/plain": [
       "<Figure size 360x360 with 1 Axes>"
      ]
     },
     "metadata": {
      "needs_background": "light"
     },
     "output_type": "display_data"
    }
   ],
   "source": [
    "sns.catplot(data=car_crashes[[\"ins_premium\"]])"
   ]
  },
  {
   "cell_type": "code",
   "execution_count": 26,
   "metadata": {},
   "outputs": [
    {
     "data": {
      "text/plain": [
       "<seaborn.axisgrid.FacetGrid at 0x122125320>"
      ]
     },
     "execution_count": 26,
     "metadata": {},
     "output_type": "execute_result"
    },
    {
     "data": {
      "image/png": "[encoded data removed]",
      "text/plain": [
       "<Figure size 360x360 with 1 Axes>"
      ]
     },
     "metadata": {
      "needs_background": "light"
     },
     "output_type": "display_data"
    }
   ],
   "source": [
    "sns.catplot(data=car_crashes[[\"ins_losses\"]])"
   ]
  },
  {
   "cell_type": "code",
   "execution_count": 29,
   "metadata": {},
   "outputs": [
    {
     "data": {
      "text/plain": [
       "<seaborn.axisgrid.FacetGrid at 0x122078ef0>"
      ]
     },
     "execution_count": 29,
     "metadata": {},
     "output_type": "execute_result"
    },
    {
     "data": {
      "image/png": "[encoded data removed]",
      "text/plain": [
       "<Figure size 360x360 with 1 Axes>"
      ]
     },
     "metadata": {
      "needs_background": "light"
     },
     "output_type": "display_data"
    }
   ],
   "source": [
    "sns.catplot(y=\"total\", kind=\"box\", data=car_crashes[[\"total\"]])"
   ]
  },
  {
   "cell_type": "code",
   "execution_count": 37,
   "metadata": {},
   "outputs": [
    {
     "data": {
      "text/plain": [
       "<seaborn.axisgrid.FacetGrid at 0x123cb80b8>"
      ]
     },
     "execution_count": 37,
     "metadata": {},
     "output_type": "execute_result"
    },
    {
     "data": {
      "image/png": "[encoded data removed]",
      "text/plain": [
       "<Figure size 360x360 with 1 Axes>"
      ]
     },
     "metadata": {
      "needs_background": "light"
     },
     "output_type": "display_data"
    }
   ],
   "source": [
    "sns.catplot(y=\"speeding\", kind=\"box\", data=car_crashes[[\"speeding\"]])"
   ]
  },
  {
   "cell_type": "code",
   "execution_count": 38,
   "metadata": {},
   "outputs": [
    {
     "data": {
      "text/plain": [
       "<seaborn.axisgrid.FacetGrid at 0x123c48b70>"
      ]
     },
     "execution_count": 38,
     "metadata": {},
     "output_type": "execute_result"
    },
    {
     "data": {
      "image/png": "[encoded data removed]",
      "text/plain": [
       "<Figure size 360x360 with 1 Axes>"
      ]
     },
     "metadata": {
      "needs_background": "light"
     },
     "output_type": "display_data"
    }
   ],
   "source": [
    "sns.catplot(y=\"alcohol\", kind=\"box\", data=car_crashes[[\"alcohol\"]])"
   ]
  },
  {
   "cell_type": "code",
   "execution_count": 39,
   "metadata": {},
   "outputs": [
    {
     "data": {
      "text/plain": [
       "<seaborn.axisgrid.FacetGrid at 0x124088828>"
      ]
     },
     "execution_count": 39,
     "metadata": {},
     "output_type": "execute_result"
    },
    {
     "data": {
      "image/png": "[encoded data removed]",
      "text/plain": [
       "<Figure size 360x360 with 1 Axes>"
      ]
     },
     "metadata": {
      "needs_background": "light"
     },
     "output_type": "display_data"
    }
   ],
   "source": [
    "sns.catplot(y=\"not_distracted\", kind=\"box\", data=car_crashes[[\"not_distracted\"]])"
   ]
  },
  {
   "cell_type": "code",
   "execution_count": 40,
   "metadata": {},
   "outputs": [
    {
     "data": {
      "text/plain": [
       "<seaborn.axisgrid.FacetGrid at 0x1239c04e0>"
      ]
     },
     "execution_count": 40,
     "metadata": {},
     "output_type": "execute_result"
    },
    {
     "data": {
      "image/png": "[encoded data removed]",
      "text/plain": [
       "<Figure size 360x360 with 1 Axes>"
      ]
     },
     "metadata": {
      "needs_background": "light"
     },
     "output_type": "display_data"
    }
   ],
   "source": [
    "sns.catplot(y=\"no_previous\", kind=\"box\", data=car_crashes[[\"no_previous\"]])"
   ]
  },
  {
   "cell_type": "code",
   "execution_count": 41,
   "metadata": {},
   "outputs": [
    {
     "data": {
      "text/plain": [
       "<seaborn.axisgrid.FacetGrid at 0x124059b38>"
      ]
     },
     "execution_count": 41,
     "metadata": {},
     "output_type": "execute_result"
    },
    {
     "data": {
      "image/png": "[encoded data removed]",
      "text/plain": [
       "<Figure size 360x360 with 1 Axes>"
      ]
     },
     "metadata": {
      "needs_background": "light"
     },
     "output_type": "display_data"
    }
   ],
   "source": [
    "sns.catplot(y=\"ins_premium\", kind=\"box\", data=car_crashes[[\"ins_premium\"]])"
   ]
  },
  {
   "cell_type": "code",
   "execution_count": 28,
   "metadata": {},
   "outputs": [
    {
     "data": {
      "text/plain": [
       "<seaborn.axisgrid.FacetGrid at 0x121de8e48>"
      ]
     },
     "execution_count": 28,
     "metadata": {},
     "output_type": "execute_result"
    },
    {
     "data": {
      "image/png": "[encoded data removed]",
      "text/plain": [
       "<Figure size 360x360 with 1 Axes>"
      ]
     },
     "metadata": {
      "needs_background": "light"
     },
     "output_type": "display_data"
    }
   ],
   "source": [
    "sns.catplot(y=\"ins_losses\", kind=\"box\", data=car_crashes[[\"ins_losses\"]])"
   ]
  },
  {
   "cell_type": "code",
   "execution_count": 47,
   "metadata": {},
   "outputs": [
    {
     "data": {
      "text/plain": [
       "<matplotlib.axes._subplots.AxesSubplot at 0x123678518>"
      ]
     },
     "execution_count": 47,
     "metadata": {},
     "output_type": "execute_result"
    },
    {
     "data": {
      "image/png": "[encoded data removed]",
      "text/plain": [
       "<Figure size 720x720 with 2 Axes>"
      ]
     },
     "metadata": {
      "needs_background": "light"
     },
     "output_type": "display_data"
    }
   ],
   "source": [
    "corr = car_crashes.corr()\n",
    "fig, ax = plt.subplots(figsize=(10,10))\n",
    "sns.heatmap(corr, square=True, annot=True)"
   ]
  },
  {
   "cell_type": "markdown",
   "metadata": {},
   "source": [
    "**ここで初めて、列名の意味を考える**"
   ]
  },
  {
   "cell_type": "code",
   "execution_count": 11,
   "metadata": {},
   "outputs": [
    {
     "data": {
      "text/plain": [
       "Index(['total', 'speeding', 'alcohol', 'not_distracted', 'no_previous',\n",
       "       'ins_premium', 'ins_losses', 'abbrev'],\n",
       "      dtype='object')"
      ]
     },
     "execution_count": 11,
     "metadata": {},
     "output_type": "execute_result"
    }
   ],
   "source": [
    "car_crashes.columns"
   ]
  },
  {
   "cell_type": "markdown",
   "metadata": {},
   "source": [
    "**\"total\" は、自動車事故の件数？**  \n",
    "**\"speeding\" は、速度のレベルでは？**  \n",
    "**\"alcohol\" は、飲酒の頻度やレベル？**  \n",
    "**\"not_distracted\" は、事故直前の意識レベル？**  \n",
    "**\"no_previous\"は、以前の事故の有無？**  \n",
    "**\"ins_premium\"は、保険掛金の程度？**  \n",
    "**\"ins losses\"は、保険損害金の程度？**"
   ]
  },
  {
   "cell_type": "markdown",
   "metadata": {},
   "source": [
    "**そう見てみると、なるほど上の相関図が理解できるかもしれない**  \n",
    "\"ins_premium\"と\"ins losses\"は、正の相関があり、  \n",
    "\"not_distracted\"と\"no_previous\"、\"alcohol\"などは、強い正の相関があるのは納得できるかもしれない。  \n",
    "  \n",
    "\"no_previous\"と、\"total\"には非常に強い相関があるが...なるほど、以前に事故経験がないほど事故につながったりするのかもしれない  \n",
    "\"speeding\"は、そこそこ\"alcohol\", \"not_distracted\", \"no_previous\"と正の相関がありつつも、  \n",
    "\"alcohol\"\"は、\"total\", \"not_distracted\", \"no_previous\"と強い相関がある。  \n",
    "これは、飲酒運転の危険性を如実に表していることを示唆している(注意力は散漫になるし、事故を以前に起こしていないからこそ油断する、的な)"
   ]
  },
  {
   "cell_type": "markdown",
   "metadata": {},
   "source": [
    "**これらが、「生のデータ」からわかること**  \n",
    "宿題的な内容は、以上になります。※データ量が少ないので、ここから先、例えば機械学習するのは置いておいきます...！"
   ]
  },
  {
   "cell_type": "markdown",
   "metadata": {},
   "source": [
    "### Seabornのデータを使って、更に「データ分析」に慣れる\n",
    "**なるべくなら、オープンなデータセットを得られるのがベスト(勉強するためには)**"
   ]
  },
  {
   "cell_type": "code",
   "execution_count": 7,
   "metadata": {},
   "outputs": [
    {
     "name": "stderr",
     "output_type": "stream",
     "text": [
      "/Users/Toki/tmp/Twitter_API/venv/lib/python3.6/site-packages/seaborn/utils.py:384: UserWarning: No parser was explicitly specified, so I'm using the best available HTML parser for this system (\"lxml\"). This usually isn't a problem, but if you run this code on another system, or in a different virtual environment, it may use a different parser and behave differently.\n",
      "\n",
      "The code that caused this warning is on line 384 of the file /Users/Toki/tmp/Twitter_API/venv/lib/python3.6/site-packages/seaborn/utils.py. To get rid of this warning, pass the additional argument 'features=\"lxml\"' to the BeautifulSoup constructor.\n",
      "\n",
      "  gh_list = BeautifulSoup(http)\n"
     ]
    },
    {
     "data": {
      "text/plain": [
       "['anscombe',\n",
       " 'attention',\n",
       " 'brain_networks',\n",
       " 'car_crashes',\n",
       " 'diamonds',\n",
       " 'dots',\n",
       " 'exercise',\n",
       " 'flights',\n",
       " 'fmri',\n",
       " 'gammas',\n",
       " 'geyser',\n",
       " 'iris',\n",
       " 'mpg',\n",
       " 'penguins',\n",
       " 'planets',\n",
       " 'tips',\n",
       " 'titanic']"
      ]
     },
     "execution_count": 7,
     "metadata": {},
     "output_type": "execute_result"
    }
   ],
   "source": [
    "# 利用できるデータセットの一覧を表示\n",
    "sns.get_dataset_names()"
   ]
  },
  {
   "cell_type": "markdown",
   "metadata": {},
   "source": [
    "### 公式のGithubからでも、確認できます\n",
    "**[seaborn-data](https://github.com/mwaskom/seaborn-data)**"
   ]
  },
  {
   "cell_type": "markdown",
   "metadata": {},
   "source": [
    "### あとは、下記のリンクからでも様々データを活用することが可能\n",
    "**[【保存版】オープンデータ・データセット100選 -膨大なデータを活用しよう！](https://ainow.ai/2020/03/02/183280/)**"
   ]
  },
  {
   "cell_type": "code",
   "execution_count": null,
   "metadata": {},
   "outputs": [],
   "source": []
  }
 ],
 "metadata": {
  "kernelspec": {
   "display_name": "Python 3",
   "language": "python",
   "name": "python3"
  },
  "language_info": {
   "codemirror_mode": {
    "name": "ipython",
    "version": 3
   },
   "file_extension": ".py",
   "mimetype": "text/x-python",
   "name": "python",
   "nbconvert_exporter": "python",
   "pygments_lexer": "ipython3",
   "version": "3.6.5"
  }
 },
 "nbformat": 4,
 "nbformat_minor": 2
}
